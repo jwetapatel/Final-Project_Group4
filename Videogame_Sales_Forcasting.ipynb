{
 "cells": [
  {
   "cell_type": "code",
   "execution_count": 10,
   "id": "5c3db4ef",
   "metadata": {},
   "outputs": [],
   "source": [
    "import warnings\n",
    "warnings.filterwarnings(\"ignore\")"
   ]
  },
  {
   "cell_type": "code",
   "execution_count": 15,
   "id": "e9cf93e0",
   "metadata": {},
   "outputs": [],
   "source": [
    "# import Dependencies \n",
    "import numpy as np\n",
    "import pandas as pd\n",
    "import seaborn as sns\n",
    "import matplotlib.pyplot as plt\n",
    "from sklearn import preprocessing, svm\n",
    "from sklearn.model_selection import train_test_split\n",
    "from sklearn.linear_model import LinearRegression"
   ]
  },
  {
   "cell_type": "code",
   "execution_count": 16,
   "id": "7ef098b4",
   "metadata": {},
   "outputs": [],
   "source": [
    "# import Data\n",
    "vgd_df = pd.read_csv(r\"E:\\final\\Temp_database.csv\")\n"
   ]
  },
  {
   "cell_type": "code",
   "execution_count": 17,
   "id": "21ccfb82",
   "metadata": {},
   "outputs": [
    {
     "data": {
      "text/html": [
       "<div>\n",
       "<style scoped>\n",
       "    .dataframe tbody tr th:only-of-type {\n",
       "        vertical-align: middle;\n",
       "    }\n",
       "\n",
       "    .dataframe tbody tr th {\n",
       "        vertical-align: top;\n",
       "    }\n",
       "\n",
       "    .dataframe thead th {\n",
       "        text-align: right;\n",
       "    }\n",
       "</style>\n",
       "<table border=\"1\" class=\"dataframe\">\n",
       "  <thead>\n",
       "    <tr style=\"text-align: right;\">\n",
       "      <th></th>\n",
       "      <th>Game</th>\n",
       "      <th>Platform</th>\n",
       "      <th>Year</th>\n",
       "      <th>Genre</th>\n",
       "      <th>Publisher</th>\n",
       "      <th>North America</th>\n",
       "      <th>Europe</th>\n",
       "      <th>Japan</th>\n",
       "      <th>Rest of World</th>\n",
       "      <th>Global</th>\n",
       "    </tr>\n",
       "  </thead>\n",
       "  <tbody>\n",
       "    <tr>\n",
       "      <th>0</th>\n",
       "      <td>Grand Theft Auto V</td>\n",
       "      <td>PS4</td>\n",
       "      <td>2014.0</td>\n",
       "      <td>Action</td>\n",
       "      <td>Rockstar Games</td>\n",
       "      <td>6.06</td>\n",
       "      <td>9.71</td>\n",
       "      <td>0.60</td>\n",
       "      <td>3.02</td>\n",
       "      <td>19.39</td>\n",
       "    </tr>\n",
       "    <tr>\n",
       "      <th>1</th>\n",
       "      <td>Call of Duty: Black Ops 3</td>\n",
       "      <td>PS4</td>\n",
       "      <td>2015.0</td>\n",
       "      <td>Shooter</td>\n",
       "      <td>Activision</td>\n",
       "      <td>6.18</td>\n",
       "      <td>6.05</td>\n",
       "      <td>0.41</td>\n",
       "      <td>2.44</td>\n",
       "      <td>15.09</td>\n",
       "    </tr>\n",
       "    <tr>\n",
       "      <th>2</th>\n",
       "      <td>Red Dead Redemption 2</td>\n",
       "      <td>PS4</td>\n",
       "      <td>2018.0</td>\n",
       "      <td>Action-Adventure</td>\n",
       "      <td>Rockstar Games</td>\n",
       "      <td>5.26</td>\n",
       "      <td>6.21</td>\n",
       "      <td>0.21</td>\n",
       "      <td>2.26</td>\n",
       "      <td>13.94</td>\n",
       "    </tr>\n",
       "    <tr>\n",
       "      <th>3</th>\n",
       "      <td>Call of Duty: WWII</td>\n",
       "      <td>PS4</td>\n",
       "      <td>2017.0</td>\n",
       "      <td>Shooter</td>\n",
       "      <td>Activision</td>\n",
       "      <td>4.67</td>\n",
       "      <td>6.21</td>\n",
       "      <td>0.40</td>\n",
       "      <td>2.12</td>\n",
       "      <td>13.40</td>\n",
       "    </tr>\n",
       "    <tr>\n",
       "      <th>4</th>\n",
       "      <td>FIFA 18</td>\n",
       "      <td>PS4</td>\n",
       "      <td>2017.0</td>\n",
       "      <td>Sports</td>\n",
       "      <td>EA Sports</td>\n",
       "      <td>1.27</td>\n",
       "      <td>8.64</td>\n",
       "      <td>0.15</td>\n",
       "      <td>1.73</td>\n",
       "      <td>11.80</td>\n",
       "    </tr>\n",
       "  </tbody>\n",
       "</table>\n",
       "</div>"
      ],
      "text/plain": [
       "                        Game Platform    Year             Genre  \\\n",
       "0         Grand Theft Auto V      PS4  2014.0            Action   \n",
       "1  Call of Duty: Black Ops 3      PS4  2015.0           Shooter   \n",
       "2      Red Dead Redemption 2      PS4  2018.0  Action-Adventure   \n",
       "3         Call of Duty: WWII      PS4  2017.0           Shooter   \n",
       "4                    FIFA 18      PS4  2017.0            Sports   \n",
       "\n",
       "        Publisher  North America  Europe  Japan  Rest of World  Global  \n",
       "0  Rockstar Games           6.06    9.71   0.60           3.02   19.39  \n",
       "1      Activision           6.18    6.05   0.41           2.44   15.09  \n",
       "2  Rockstar Games           5.26    6.21   0.21           2.26   13.94  \n",
       "3      Activision           4.67    6.21   0.40           2.12   13.40  \n",
       "4       EA Sports           1.27    8.64   0.15           1.73   11.80  "
      ]
     },
     "execution_count": 17,
     "metadata": {},
     "output_type": "execute_result"
    }
   ],
   "source": [
    "# Display Data \n",
    "vgd_df.head()"
   ]
  },
  {
   "cell_type": "code",
   "execution_count": 20,
   "id": "7b15bfbd",
   "metadata": {},
   "outputs": [],
   "source": [
    "# Drop the non-beneficial\n",
    "vgd_df.drop(['Publisher'], axis=1, inplace=True)"
   ]
  },
  {
   "cell_type": "code",
   "execution_count": 40,
   "id": "0a3181c4",
   "metadata": {},
   "outputs": [],
   "source": [
    "# Combine Global and rest of world \n",
    "vgd_df['other countries'] = vgd_df['Rest of World'] + vgd_df['Global']\n",
    "\n"
   ]
  },
  {
   "cell_type": "code",
   "execution_count": 43,
   "id": "718a3421",
   "metadata": {},
   "outputs": [],
   "source": [
    "# Drop the non-beneficial ID columns, 'EIN' and 'NAME'.\n",
    "vgd_df.drop(['Global','Rest of World'], axis=1, inplace=True)"
   ]
  },
  {
   "cell_type": "code",
   "execution_count": 44,
   "id": "fc1230aa",
   "metadata": {},
   "outputs": [
    {
     "data": {
      "text/html": [
       "<div>\n",
       "<style scoped>\n",
       "    .dataframe tbody tr th:only-of-type {\n",
       "        vertical-align: middle;\n",
       "    }\n",
       "\n",
       "    .dataframe tbody tr th {\n",
       "        vertical-align: top;\n",
       "    }\n",
       "\n",
       "    .dataframe thead th {\n",
       "        text-align: right;\n",
       "    }\n",
       "</style>\n",
       "<table border=\"1\" class=\"dataframe\">\n",
       "  <thead>\n",
       "    <tr style=\"text-align: right;\">\n",
       "      <th></th>\n",
       "      <th>Game</th>\n",
       "      <th>Platform</th>\n",
       "      <th>Year</th>\n",
       "      <th>Genre</th>\n",
       "      <th>North America</th>\n",
       "      <th>Europe</th>\n",
       "      <th>Japan</th>\n",
       "      <th>other countries</th>\n",
       "    </tr>\n",
       "  </thead>\n",
       "  <tbody>\n",
       "    <tr>\n",
       "      <th>0</th>\n",
       "      <td>Grand Theft Auto V</td>\n",
       "      <td>PS4</td>\n",
       "      <td>2014.0</td>\n",
       "      <td>Action</td>\n",
       "      <td>6.06</td>\n",
       "      <td>9.71</td>\n",
       "      <td>0.60</td>\n",
       "      <td>22.41</td>\n",
       "    </tr>\n",
       "    <tr>\n",
       "      <th>1</th>\n",
       "      <td>Call of Duty: Black Ops 3</td>\n",
       "      <td>PS4</td>\n",
       "      <td>2015.0</td>\n",
       "      <td>Shooter</td>\n",
       "      <td>6.18</td>\n",
       "      <td>6.05</td>\n",
       "      <td>0.41</td>\n",
       "      <td>17.53</td>\n",
       "    </tr>\n",
       "    <tr>\n",
       "      <th>2</th>\n",
       "      <td>Red Dead Redemption 2</td>\n",
       "      <td>PS4</td>\n",
       "      <td>2018.0</td>\n",
       "      <td>Action-Adventure</td>\n",
       "      <td>5.26</td>\n",
       "      <td>6.21</td>\n",
       "      <td>0.21</td>\n",
       "      <td>16.20</td>\n",
       "    </tr>\n",
       "    <tr>\n",
       "      <th>3</th>\n",
       "      <td>Call of Duty: WWII</td>\n",
       "      <td>PS4</td>\n",
       "      <td>2017.0</td>\n",
       "      <td>Shooter</td>\n",
       "      <td>4.67</td>\n",
       "      <td>6.21</td>\n",
       "      <td>0.40</td>\n",
       "      <td>15.52</td>\n",
       "    </tr>\n",
       "    <tr>\n",
       "      <th>4</th>\n",
       "      <td>FIFA 18</td>\n",
       "      <td>PS4</td>\n",
       "      <td>2017.0</td>\n",
       "      <td>Sports</td>\n",
       "      <td>1.27</td>\n",
       "      <td>8.64</td>\n",
       "      <td>0.15</td>\n",
       "      <td>13.53</td>\n",
       "    </tr>\n",
       "  </tbody>\n",
       "</table>\n",
       "</div>"
      ],
      "text/plain": [
       "                        Game Platform    Year             Genre  \\\n",
       "0         Grand Theft Auto V      PS4  2014.0            Action   \n",
       "1  Call of Duty: Black Ops 3      PS4  2015.0           Shooter   \n",
       "2      Red Dead Redemption 2      PS4  2018.0  Action-Adventure   \n",
       "3         Call of Duty: WWII      PS4  2017.0           Shooter   \n",
       "4                    FIFA 18      PS4  2017.0            Sports   \n",
       "\n",
       "   North America  Europe  Japan  other countries  \n",
       "0           6.06    9.71   0.60            22.41  \n",
       "1           6.18    6.05   0.41            17.53  \n",
       "2           5.26    6.21   0.21            16.20  \n",
       "3           4.67    6.21   0.40            15.52  \n",
       "4           1.27    8.64   0.15            13.53  "
      ]
     },
     "execution_count": 44,
     "metadata": {},
     "output_type": "execute_result"
    }
   ],
   "source": [
    "vgd_df.head()"
   ]
  },
  {
   "cell_type": "code",
   "execution_count": 45,
   "id": "d6323af0",
   "metadata": {},
   "outputs": [
    {
     "data": {
      "text/plain": [
       "(2823, 8)"
      ]
     },
     "execution_count": 45,
     "metadata": {},
     "output_type": "execute_result"
    }
   ],
   "source": [
    "# Inspecting the data\n",
    "vgd_df.shape"
   ]
  },
  {
   "cell_type": "code",
   "execution_count": 47,
   "id": "286d8a74",
   "metadata": {
    "scrolled": true
   },
   "outputs": [
    {
     "name": "stdout",
     "output_type": "stream",
     "text": [
      "<class 'pandas.core.frame.DataFrame'>\n",
      "RangeIndex: 2823 entries, 0 to 2822\n",
      "Data columns (total 8 columns):\n",
      " #   Column           Non-Null Count  Dtype  \n",
      "---  ------           --------------  -----  \n",
      " 0   Game             2823 non-null   object \n",
      " 1   Platform         2823 non-null   object \n",
      " 2   Year             2597 non-null   float64\n",
      " 3   Genre            2823 non-null   object \n",
      " 4   North America    2823 non-null   float64\n",
      " 5   Europe           2823 non-null   float64\n",
      " 6   Japan            2823 non-null   float64\n",
      " 7   other countries  2823 non-null   float64\n",
      "dtypes: float64(5), object(3)\n",
      "memory usage: 176.6+ KB\n"
     ]
    }
   ],
   "source": [
    "vgd_df.info()"
   ]
  },
  {
   "cell_type": "code",
   "execution_count": 48,
   "id": "c580e971",
   "metadata": {},
   "outputs": [
    {
     "data": {
      "text/html": [
       "<div>\n",
       "<style scoped>\n",
       "    .dataframe tbody tr th:only-of-type {\n",
       "        vertical-align: middle;\n",
       "    }\n",
       "\n",
       "    .dataframe tbody tr th {\n",
       "        vertical-align: top;\n",
       "    }\n",
       "\n",
       "    .dataframe thead th {\n",
       "        text-align: right;\n",
       "    }\n",
       "</style>\n",
       "<table border=\"1\" class=\"dataframe\">\n",
       "  <thead>\n",
       "    <tr style=\"text-align: right;\">\n",
       "      <th></th>\n",
       "      <th>Year</th>\n",
       "      <th>North America</th>\n",
       "      <th>Europe</th>\n",
       "      <th>Japan</th>\n",
       "      <th>other countries</th>\n",
       "    </tr>\n",
       "  </thead>\n",
       "  <tbody>\n",
       "    <tr>\n",
       "      <th>count</th>\n",
       "      <td>2597.00000</td>\n",
       "      <td>2823.000000</td>\n",
       "      <td>2823.000000</td>\n",
       "      <td>2823.000000</td>\n",
       "      <td>2823.000000</td>\n",
       "    </tr>\n",
       "    <tr>\n",
       "      <th>mean</th>\n",
       "      <td>2012.99692</td>\n",
       "      <td>0.374658</td>\n",
       "      <td>0.209809</td>\n",
       "      <td>0.018169</td>\n",
       "      <td>0.533705</td>\n",
       "    </tr>\n",
       "    <tr>\n",
       "      <th>std</th>\n",
       "      <td>5.39574</td>\n",
       "      <td>1.507118</td>\n",
       "      <td>0.626146</td>\n",
       "      <td>0.072672</td>\n",
       "      <td>1.438324</td>\n",
       "    </tr>\n",
       "    <tr>\n",
       "      <th>min</th>\n",
       "      <td>1984.00000</td>\n",
       "      <td>0.000000</td>\n",
       "      <td>0.000000</td>\n",
       "      <td>0.000000</td>\n",
       "      <td>0.000000</td>\n",
       "    </tr>\n",
       "    <tr>\n",
       "      <th>25%</th>\n",
       "      <td>2011.00000</td>\n",
       "      <td>0.000000</td>\n",
       "      <td>0.000000</td>\n",
       "      <td>0.000000</td>\n",
       "      <td>0.020000</td>\n",
       "    </tr>\n",
       "    <tr>\n",
       "      <th>50%</th>\n",
       "      <td>2015.00000</td>\n",
       "      <td>0.020000</td>\n",
       "      <td>0.020000</td>\n",
       "      <td>0.000000</td>\n",
       "      <td>0.070000</td>\n",
       "    </tr>\n",
       "    <tr>\n",
       "      <th>75%</th>\n",
       "      <td>2016.00000</td>\n",
       "      <td>0.180000</td>\n",
       "      <td>0.130000</td>\n",
       "      <td>0.000000</td>\n",
       "      <td>0.360000</td>\n",
       "    </tr>\n",
       "    <tr>\n",
       "      <th>max</th>\n",
       "      <td>2022.00000</td>\n",
       "      <td>42.000000</td>\n",
       "      <td>9.710000</td>\n",
       "      <td>2.170000</td>\n",
       "      <td>22.410000</td>\n",
       "    </tr>\n",
       "  </tbody>\n",
       "</table>\n",
       "</div>"
      ],
      "text/plain": [
       "             Year  North America       Europe        Japan  other countries\n",
       "count  2597.00000    2823.000000  2823.000000  2823.000000      2823.000000\n",
       "mean   2012.99692       0.374658     0.209809     0.018169         0.533705\n",
       "std       5.39574       1.507118     0.626146     0.072672         1.438324\n",
       "min    1984.00000       0.000000     0.000000     0.000000         0.000000\n",
       "25%    2011.00000       0.000000     0.000000     0.000000         0.020000\n",
       "50%    2015.00000       0.020000     0.020000     0.000000         0.070000\n",
       "75%    2016.00000       0.180000     0.130000     0.000000         0.360000\n",
       "max    2022.00000      42.000000     9.710000     2.170000        22.410000"
      ]
     },
     "execution_count": 48,
     "metadata": {},
     "output_type": "execute_result"
    }
   ],
   "source": [
    "vgd_df.describe()"
   ]
  },
  {
   "cell_type": "code",
   "execution_count": 49,
   "id": "cb500e9f",
   "metadata": {},
   "outputs": [
    {
     "data": {
      "text/plain": [
       "<bound method NDFrame._add_numeric_operations.<locals>.sum of        Game  Platform   Year  Genre  North America  Europe  Japan  \\\n",
       "0     False     False  False  False          False   False  False   \n",
       "1     False     False  False  False          False   False  False   \n",
       "2     False     False  False  False          False   False  False   \n",
       "3     False     False  False  False          False   False  False   \n",
       "4     False     False  False  False          False   False  False   \n",
       "...     ...       ...    ...    ...            ...     ...    ...   \n",
       "2818  False     False  False  False          False   False  False   \n",
       "2819  False     False  False  False          False   False  False   \n",
       "2820  False     False  False  False          False   False  False   \n",
       "2821  False     False  False  False          False   False  False   \n",
       "2822  False     False  False  False          False   False  False   \n",
       "\n",
       "      other countries  \n",
       "0               False  \n",
       "1               False  \n",
       "2               False  \n",
       "3               False  \n",
       "4               False  \n",
       "...               ...  \n",
       "2818            False  \n",
       "2819            False  \n",
       "2820            False  \n",
       "2821            False  \n",
       "2822            False  \n",
       "\n",
       "[2823 rows x 8 columns]>"
      ]
     },
     "execution_count": 49,
     "metadata": {},
     "output_type": "execute_result"
    }
   ],
   "source": [
    "# Examine data for Null variables\n",
    "\n",
    "vgd_df.isnull().sum"
   ]
  },
  {
   "cell_type": "code",
   "execution_count": 50,
   "id": "65839118",
   "metadata": {},
   "outputs": [
    {
     "data": {
      "image/png": "[encoded data removed]",
      "text/plain": [
       "<Figure size 288x288 with 1 Axes>"
      ]
     },
     "metadata": {},
     "output_type": "display_data"
    }
   ],
   "source": [
    "# NA Sales relationship to platform\n",
    "\n",
    "sns.pairplot(vgd_df, x_vars=['Platform'], y_vars='North America', height=4, aspect=1, kind='scatter')\n",
    "plt.show()"
   ]
  },
  {
   "cell_type": "code",
   "execution_count": 51,
   "id": "38c7c297",
   "metadata": {
    "scrolled": true
   },
   "outputs": [
    {
     "data": {
      "image/png": "[encoded data removed]",
      "text/plain": [
       "<Figure size 288x288 with 1 Axes>"
      ]
     },
     "metadata": {},
     "output_type": "display_data"
    }
   ],
   "source": [
    "# EU sales relationship to platform\n",
    "\n",
    "sns.pairplot(vgd_df, x_vars=['Platform'], y_vars='Europe', height=4, aspect=1, kind='scatter')\n",
    "plt.show()"
   ]
  },
  {
   "cell_type": "code",
   "execution_count": 52,
   "id": "1dde4803",
   "metadata": {
    "scrolled": false
   },
   "outputs": [
    {
     "data": {
      "image/png": "[encoded data removed]",
      "text/plain": [
       "<Figure size 288x288 with 1 Axes>"
      ]
     },
     "metadata": {},
     "output_type": "display_data"
    }
   ],
   "source": [
    "# Japan sales relationship to platform\n",
    "\n",
    "sns.pairplot(vgd_df, x_vars=['Platform'], y_vars='Japan', height=4, aspect=1, kind='scatter')\n",
    "plt.show()"
   ]
  },
  {
   "cell_type": "code",
   "execution_count": 56,
   "id": "62c13339",
   "metadata": {},
   "outputs": [
    {
     "data": {
      "image/png": "[encoded data removed]",
      "text/plain": [
       "<Figure size 288x288 with 1 Axes>"
      ]
     },
     "metadata": {},
     "output_type": "display_data"
    }
   ],
   "source": [
    "# Other Countries sales relationship to platform\n",
    "\n",
    "sns.pairplot(vgd_df, x_vars=['Platform'], y_vars='other countries', height=4, aspect=1, kind='scatter')\n",
    "plt.show()"
   ]
  },
  {
   "cell_type": "code",
   "execution_count": 53,
   "id": "92480d1b",
   "metadata": {},
   "outputs": [
    {
     "data": {
      "image/png": "[encoded data removed]",
      "text/plain": [
       "<Figure size 288x288 with 1 Axes>"
      ]
     },
     "metadata": {},
     "output_type": "display_data"
    }
   ],
   "source": [
    "# EU sales relationship to platform\n",
    "\n",
    "sns.pairplot(vgd_df, x_vars=['Platform'], y_vars='Europe', height=4, aspect=1, kind='scatter')\n",
    "plt.show()"
   ]
  },
  {
   "cell_type": "code",
   "execution_count": 54,
   "id": "2feb5a72",
   "metadata": {},
   "outputs": [
    {
     "data": {
      "image/png": "[encoded data removed]",
      "text/plain": [
       "<Figure size 432x288 with 2 Axes>"
      ]
     },
     "metadata": {},
     "output_type": "display_data"
    }
   ],
   "source": [
    "#relationship variables\n",
    "sns.heatmap(vgd_df.corr(), cmap=\"YlGnBu\", annot = True)\n",
    "plt.show()"
   ]
  },
  {
   "cell_type": "code",
   "execution_count": null,
   "id": "99a87ecf",
   "metadata": {},
   "outputs": [],
   "source": [
    "# Description of preliminary data preprocessing \n",
    "# Description of preliminary feature engineering and preliminary feature selection, including their decision-making process\n",
    "# Description of how data was split into training and testing sets \n",
    "# Explanation of model choice, including limitations and benefits\n"
   ]
  }
 ],
 "metadata": {
  "kernelspec": {
   "display_name": "Python 3 (ipykernel)",
   "language": "python",
   "name": "python3"
  },
  "language_info": {
   "codemirror_mode": {
    "name": "ipython",
    "version": 3
   },
   "file_extension": ".py",
   "mimetype": "text/x-python",
   "name": "python",
   "nbconvert_exporter": "python",
   "pygments_lexer": "ipython3",
   "version": "3.9.7"
  }
 },
 "nbformat": 4,
 "nbformat_minor": 5
}
